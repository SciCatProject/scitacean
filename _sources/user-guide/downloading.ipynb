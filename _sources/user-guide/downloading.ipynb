{
 "cells": [
  {
   "cell_type": "markdown",
   "id": "0",
   "metadata": {},
   "source": [
    "# Downloading datasets\n",
    "\n",
    "All communication with SciCat is handled by a client object.\n",
    "Normally, one would construct one using something like\n",
    "\n",
    "```python\n",
    "from scitacean import Client\n",
    "from scitacean.transfer.sftp import SFTPFileTransfer\n",
    "client = Client.from_token(url=\"https://scicat.ess.eu/api/v3\",\n",
    "                           token=...,\n",
    "                           file_transfer=SFTPFileTransfer(\n",
    "                               host=\"login.esss.dk\"\n",
    "                           ))\n",
    "```\n",
    "\n",
    "In this example, we use ESS's SciCat.\n",
    "If you want to use a different one, you need to figure out its URL.\n",
    "Note that this is *not* the same URL that you open in a browser but typically ends in a suffix like `/api/v3`.\n",
    "\n",
    "Here, we authenticate using a token.\n",
    "You can find your token in the web interface by logging in and opening the settings.\n",
    "Alternatively, we could use username and password via [Client.from_credentials](../generated/classes/scitacean.Client.rst#scitacean.Client.from_credentials).\n",
    "\n",
    "<div class=\"alert alert-warning\">\n",
    "    <b>WARNING:</b>\n",
    "\n",
    "Do **not** hard code secrets like tokens or passwords in notebooks or scripts!\n",
    "There is a high risk of exposing them when code is under version control or uploaded to SciCat.\n",
    "\n",
    "Scitacean currently requires secrets to be passed as function arguments.\n",
    "So you will have to find your own solution for now.\n",
    "\n",
    "</div>\n",
    "\n",
    "While the client itself is responsible for talking to SciCat, a `file_transfer` object is required to download data files.\n",
    "Here, we use `SFTPFileTransfer` which downloads / uploads files via SFTP.\n",
    "\n",
    "The file transfer needs to authenticate separately from the SciCat connection.\n",
    "By default, it requires an SSH agent to be running an set up for the selected `host`.\n",
    "\n",
    "For the purposes of this guide, we don't want to connect to a real SciCat server in order to avoid the complications associated with that.\n",
    "So we set up a fake client that only pretends to connect to SciCat and file servers.\n",
    "Everything else in this guide works in the same way with a real client.\n",
    "See [Developer Documentation/Testing](../developer/testing.rst) if you are interested in the details."
   ]
  },
  {
   "cell_type": "code",
   "execution_count": null,
   "id": "1",
   "metadata": {},
   "outputs": [],
   "source": [
    "from scitacean.testing.docs import setup_fake_client\n",
    "client = setup_fake_client()"
   ]
  },
  {
   "cell_type": "markdown",
   "id": "2",
   "metadata": {},
   "source": [
    "## Metadata\n",
    "\n",
    "We need the ID (`pid`) of a dataset in order to download it.\n",
    "The fake client provides a dataset with id `20.500.12269/72fe3ff6-105b-4c7f-b9d0-073b67c90ec3`.\n",
    "We can download it using"
   ]
  },
  {
   "cell_type": "code",
   "execution_count": null,
   "id": "3",
   "metadata": {},
   "outputs": [],
   "source": [
    "dset = client.get_dataset(\"20.500.12269/72fe3ff6-105b-4c7f-b9d0-073b67c90ec3\")"
   ]
  },
  {
   "cell_type": "markdown",
   "id": "4",
   "metadata": {},
   "source": [
    "Datasets can easily be inspected in Jupyter notebooks:"
   ]
  },
  {
   "cell_type": "code",
   "execution_count": null,
   "id": "5",
   "metadata": {},
   "outputs": [],
   "source": [
    "dset"
   ]
  },
  {
   "cell_type": "markdown",
   "id": "6",
   "metadata": {},
   "source": [
    "All attributes listed above can be accessed directly:"
   ]
  },
  {
   "cell_type": "code",
   "execution_count": null,
   "id": "7",
   "metadata": {},
   "outputs": [],
   "source": [
    "dset.type"
   ]
  },
  {
   "cell_type": "code",
   "execution_count": null,
   "id": "8",
   "metadata": {},
   "outputs": [],
   "source": [
    "dset.name"
   ]
  },
  {
   "cell_type": "code",
   "execution_count": null,
   "id": "9",
   "metadata": {},
   "outputs": [],
   "source": [
    "dset.owner"
   ]
  },
  {
   "cell_type": "markdown",
   "id": "10",
   "metadata": {},
   "source": [
    "See [Dataset](../generated/classes/scitacean.Dataset.rst) for a list of available fields.\n",
    "\n",
    "In addition, datasets can have free form scientific metadata which we can be accessed using"
   ]
  },
  {
   "cell_type": "code",
   "execution_count": null,
   "id": "11",
   "metadata": {},
   "outputs": [],
   "source": [
    "dset.meta"
   ]
  },
  {
   "cell_type": "markdown",
   "id": "12",
   "metadata": {},
   "source": [
    "## Files\n",
    "\n",
    "The data files associated with this dataset can be accessed using"
   ]
  },
  {
   "cell_type": "code",
   "execution_count": null,
   "id": "13",
   "metadata": {},
   "outputs": [],
   "source": [
    "for f in dset.files:\n",
    "    print(f\"{f.remote_access_path(dset.source_folder) = }\")\n",
    "    print(f\"{f.local_path = }\")\n",
    "    print(f\"{f.size = } bytes\")\n",
    "    print(\"----\")"
   ]
  },
  {
   "cell_type": "markdown",
   "id": "14",
   "metadata": {},
   "source": [
    "Note that the `local_path` for both files is `None`.\n",
    "This indicates that the files have not been downloaded.\n",
    "Indeed, `client.get_dataset` downloads only the metadata from SciCat, not the files.\n",
    "\n",
    "We can download the first file using"
   ]
  },
  {
   "cell_type": "code",
   "execution_count": null,
   "id": "15",
   "metadata": {},
   "outputs": [],
   "source": [
    "dset_with_local_file = client.download_files(dset, target=\"download\", select=\"flux.dat\")"
   ]
  },
  {
   "cell_type": "code",
   "execution_count": null,
   "id": "16",
   "metadata": {},
   "outputs": [],
   "source": [
    "for f in dset_with_local_file.files:\n",
    "    print(f\"{f.remote_access_path(dset.source_folder) = }\")\n",
    "    print(f\"{f.local_path = }\")\n",
    "    print(f\"{f.size = } bytes\")\n",
    "    print(\"----\")"
   ]
  },
  {
   "cell_type": "markdown",
   "id": "17",
   "metadata": {},
   "source": [
    "Which populates the `local_path`:"
   ]
  },
  {
   "cell_type": "code",
   "execution_count": null,
   "id": "18",
   "metadata": {},
   "outputs": [],
   "source": [
    "file = list(dset_with_local_file.files)[0]"
   ]
  },
  {
   "cell_type": "code",
   "execution_count": null,
   "id": "19",
   "metadata": {},
   "outputs": [],
   "source": [
    "file.local_path"
   ]
  },
  {
   "cell_type": "markdown",
   "id": "20",
   "metadata": {},
   "source": [
    "We can use it to read the file:"
   ]
  },
  {
   "cell_type": "code",
   "execution_count": null,
   "id": "21",
   "metadata": {},
   "outputs": [],
   "source": [
    "with file.local_path.open(\"r\") as f:\n",
    "    print(f.read())"
   ]
  },
  {
   "cell_type": "markdown",
   "id": "22",
   "metadata": {},
   "source": [
    "If we wanted to download all files, we could pass `select=True` (or nothing, `True` is the default) to `client.download_files`.\n",
    "See [Client.download_files](../generated/classes/scitacean.Client.rst#scitacean.Client.download_files) for more options to select files."
   ]
  },
  {
   "cell_type": "code",
   "execution_count": null,
   "id": "23",
   "metadata": {
    "nbsphinx": "hidden",
    "tags": []
   },
   "outputs": [],
   "source": [
    "# This cell is hidden.\n",
    "# It should remove *only* files and directories created by this notebook.\n",
    "import shutil\n",
    "shutil.rmtree(\"download\", ignore_errors=True)"
   ]
  }
 ],
 "metadata": {
  "kernelspec": {
   "display_name": "Python 3 (ipykernel)",
   "language": "python",
   "name": "python3"
  },
  "language_info": {
   "codemirror_mode": {
    "name": "ipython",
    "version": 3
   },
   "file_extension": ".py",
   "mimetype": "text/x-python",
   "name": "python",
   "nbconvert_exporter": "python",
   "pygments_lexer": "ipython3",
   "version": "3.11.3"
  }
 },
 "nbformat": 4,
 "nbformat_minor": 5
}
