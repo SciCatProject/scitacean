{
 "cells": [
  {
   "cell_type": "markdown",
   "id": "955a4d05-166f-4456-8dac-f81d0e40805a",
   "metadata": {},
   "source": [
    "# Testing code with Scitacean\n",
    "\n",
    "Testing programs that use Scitacean can be tricky as those tests might try to access a SciCat server or fileserver.\n",
    "This is why Scitacean provides [FakeClient](../generated/classes/scitacean.testing.client.FakeClient.rst) and [FakeFileTransfer](../generated/classes/scitacean.testing.transfer.FakeFileTransfer.rst).\n",
    "Those two classes follow the same separation of concerns as the real classes.\n",
    "That is `FakeClient` handles metadata and `FakeFileTransfer` handles files.\n",
    "They can be mixed and matched freely with the real client and file transfers.\n",
    "But it is generally recommended to combine them.\n",
    "\n",
    "First, create a test dataset and file."
   ]
  },
  {
   "cell_type": "code",
   "execution_count": null,
   "id": "53ae8816-eea4-49f4-a0d0-20d037f3d1e5",
   "metadata": {},
   "outputs": [],
   "source": [
    "from scitacean import Dataset\n",
    "\n",
    "dataset = Dataset(\n",
    "    type=\"raw\",\n",
    "    owner_group=\"faculty\",\n",
    "    owner=\"ridcully\",\n",
    "    principal_investigator=\"ridcully\",\n",
    "    contact_email=\"ridcully@uu.am\",\n",
    "    data_format=\"spellbook-9000\",\n",
    "    source_folder=\"/upload\",\n",
    ")"
   ]
  },
  {
   "cell_type": "code",
   "execution_count": null,
   "id": "e7ff9e70-9d75-4e15-b0ad-ccddc02741fd",
   "metadata": {},
   "outputs": [],
   "source": [
    "from pathlib import Path\n",
    "\n",
    "path = Path(\"test-data/spellbook.txt\")\n",
    "path.parent.mkdir(parents=True, exist_ok=True)\n",
    "with path.open(\"w\") as f:\n",
    "    f.write(\"fireball power=1000 mana=123\")"
   ]
  },
  {
   "cell_type": "code",
   "execution_count": null,
   "id": "e7985c81-0df3-4f18-a417-8d5ed8afd5ee",
   "metadata": {},
   "outputs": [],
   "source": [
    "dataset.add_local_files(\"test-data/spellbook.txt\", base_path=\"test-data\")"
   ]
  },
  {
   "cell_type": "markdown",
   "id": "94eace31-d349-40e6-8942-1ceea4830f0f",
   "metadata": {},
   "source": [
    "## FakeClient\n",
    "\n",
    "[scitacean.testing.client.FakeClient](../generated/classes/scitacean.testing.client.FakeClient.rst) has the same interface as the regular [Client](../generated/classes/scitacean.Client.rst) but never connects to any SciCat server.\n",
    "Instead, it maintains an internal record of datasets and datablocks.\n",
    "It is easiest to explain with an example.\n",
    "First, create a `FakeClient`.\n",
    "The url is completely arbitrary and only needs to be passed for parity with the real client."
   ]
  },
  {
   "cell_type": "code",
   "execution_count": null,
   "id": "59eae44f-46a6-4a07-98cc-81104a25503b",
   "metadata": {},
   "outputs": [],
   "source": [
    "from scitacean.testing.client import FakeClient\n",
    "from scitacean.testing.transfer import FakeFileTransfer\n",
    "\n",
    "client = FakeClient.without_login(\n",
    "    url=\"https://fake.scicat\",\n",
    "    file_transfer=FakeFileTransfer(source_folder=\"/upload/{uid}\"))"
   ]
  },
  {
   "cell_type": "markdown",
   "id": "e566a6bd-e7e1-4c0b-bb80-c92bcc1b30ba",
   "metadata": {},
   "source": [
    "### Upload\n",
    "\n",
    "And now we can upload our test dataset as usual:"
   ]
  },
  {
   "cell_type": "code",
   "execution_count": null,
   "id": "06e47461-c6c8-456f-ac04-10541fbe8907",
   "metadata": {},
   "outputs": [],
   "source": [
    "finalized = client.upload_new_dataset_now(dataset)\n",
    "str(finalized)"
   ]
  },
  {
   "cell_type": "markdown",
   "id": "d882e803-0609-4940-8033-788d0b735b20",
   "metadata": {},
   "source": [
    "However, this did not talk to a SciCat server.\n",
    "We can check if the fake upload was successful by inspecting the `client`.\n",
    "`client.datasets` is a `dict` that contains all datasets known to the fake server keyed by PID:"
   ]
  },
  {
   "cell_type": "code",
   "execution_count": null,
   "id": "22860c6e-b880-4baf-8709-e80fb8d5781a",
   "metadata": {},
   "outputs": [],
   "source": [
    "client.datasets.keys()"
   ]
  },
  {
   "cell_type": "code",
   "execution_count": null,
   "id": "a8d0bcbe-48d6-41f1-95fc-7c39426c3cfb",
   "metadata": {},
   "outputs": [],
   "source": [
    "pid = list(client.datasets.keys())[0]\n",
    "client.datasets[pid]"
   ]
  },
  {
   "cell_type": "markdown",
   "id": "25c2ddd3-0105-4370-b57e-65ac94e67b28",
   "metadata": {},
   "source": [
    "The client has recorded the upload from earlier.\n",
    "However, it stored the dataset as a [model](../reference/index.rst#models), not as a regular `Dataset` object.\n",
    "In addition, since the dataset has a file, an original datablock was uploaded as well: (Datablocks store metadata and paths of files in SciCat.)"
   ]
  },
  {
   "cell_type": "code",
   "execution_count": null,
   "id": "b9538f81-18d6-4441-9c09-b8dc4c8c1c71",
   "metadata": {},
   "outputs": [],
   "source": [
    "client.orig_datablocks.keys()"
   ]
  },
  {
   "cell_type": "code",
   "execution_count": null,
   "id": "05633fd9-1286-40f4-91ca-4e8c1a2df299",
   "metadata": {},
   "outputs": [],
   "source": [
    "# use the pid of the dataset\n",
    "client.orig_datablocks[pid]"
   ]
  },
  {
   "cell_type": "markdown",
   "id": "792d672e-325e-4b5b-80d7-4c71baa6c71d",
   "metadata": {},
   "source": [
    "When writing tests, those recorded dataset and datablock models can be used to check if an upload worked.\n",
    "\n",
    "### Download\n",
    "\n",
    "`FakeClient` can also download datasets that are stored in its `datasets` dictionary:"
   ]
  },
  {
   "cell_type": "code",
   "execution_count": null,
   "id": "d2e9d67d-8ae1-4462-8035-1907bb3a98fc",
   "metadata": {},
   "outputs": [],
   "source": [
    "downloaded = client.get_dataset(pid)\n",
    "str(downloaded)"
   ]
  },
  {
   "cell_type": "markdown",
   "id": "2919ab29-8d74-416d-b611-d1f1b5ba8fdb",
   "metadata": {},
   "source": [
    "This is now an actual `Dataset` object like you would get from a real client.\n",
    "\n",
    "If we want to test downloads independently of uploads, we can populate `client.datasets` and `cliend.orig_datablocks` manually.\n",
    "But keep in mind that those store *models*. See the [model reference](../reference/index.rst#models) for an overview.\n",
    "And also note that `orig_datablocks` stores a list of models for each dataset as there can be multiple datablocks per dataset.\n",
    "\n",
    "### Fidelity\n",
    "\n",
    "Although `FakeClient` is sufficient for many tests, it does not behave exactly the same way as a real client.\n",
    "For example, it does not perform any validation of datasets or handle credentials.\n",
    "In addition, it does not modify uploaded datasets like a real server would.\n",
    "This can be seen from both the `finalized` dataset returned by `client.upload_new_dataset_now(dataset)` above and `downloaded`.\n",
    "\n",
    "If a test requires these properties, consider using a locally deployed SciCat server.\n",
    "See in particular the [developer documentation on testing](../developer/testing.rst)."
   ]
  },
  {
   "cell_type": "markdown",
   "id": "da104640-ce5f-4e04-81fd-878167b8bd08",
   "metadata": {},
   "source": [
    "## FakeFileTransfer\n",
    "\n",
    "`FakeClient` used above only fakes a SciCat server, i.e. handling of metadata.\n",
    "If we also want to test file uploads and downloads, we can use [scitacean.testing.transfer.FakeFileTransfer](../generated/classes/scitacean.testing.transfer.FakeFileTransfer.rst).\n",
    "Starting from a clean slate, create a fake client with a fake file transfer as above:"
   ]
  },
  {
   "cell_type": "code",
   "execution_count": null,
   "id": "7457b8a6-b067-443d-adda-88cc97af22f5",
   "metadata": {
    "tags": []
   },
   "outputs": [],
   "source": [
    "from scitacean.testing.client import FakeClient\n",
    "from scitacean.testing.transfer import FakeFileTransfer\n",
    "\n",
    "client = FakeClient.without_login(\n",
    "    url=\"https://fake.scicat\",\n",
    "    file_transfer=FakeFileTransfer(source_folder=\"/upload/{uid}\"))"
   ]
  },
  {
   "cell_type": "markdown",
   "id": "15d15535-78c1-440f-b50e-626ea5457cd0",
   "metadata": {},
   "source": [
    "And upload a dataset:"
   ]
  },
  {
   "cell_type": "code",
   "execution_count": null,
   "id": "9e74e0fe-225a-4899-908c-e24002ad1a0c",
   "metadata": {
    "tags": []
   },
   "outputs": [],
   "source": [
    "finalized = client.upload_new_dataset_now(dataset)"
   ]
  },
  {
   "cell_type": "markdown",
   "id": "09f3c366-74ef-41bc-82ca-188cfdd240a3",
   "metadata": {},
   "source": [
    "The file transfer has recorded the upload of the file without actually uploading it anywhere.\n",
    "We can inspect all files on the fake fileserver using:"
   ]
  },
  {
   "cell_type": "code",
   "execution_count": null,
   "id": "e015c1f5-1f6b-4289-b6a5-435bcdf02512",
   "metadata": {},
   "outputs": [],
   "source": [
    "client.file_transfer.files"
   ]
  },
  {
   "cell_type": "markdown",
   "id": "a1b67454-e63c-42d1-85a9-f1b16d0219c8",
   "metadata": {},
   "source": [
    "This is a dictionary keyed by [remote_access_path](../generated/classes/scitacean.File.rst#scitacean.File.remote_access_path) to the content of the file.\n",
    "\n",
    "We can also download the file."
   ]
  },
  {
   "cell_type": "code",
   "execution_count": null,
   "id": "cc713b35-29d5-4a36-a51b-c3f437e8e4f7",
   "metadata": {},
   "outputs": [],
   "source": [
    "downloaded = client.get_dataset(finalized.pid)\n",
    "with_downloaded_file = client.download_files(downloaded, target=\"test-data/download\")"
   ]
  },
  {
   "cell_type": "code",
   "execution_count": null,
   "id": "ce5bd08a-9399-4c3b-9a92-ea5ae733e29a",
   "metadata": {},
   "outputs": [],
   "source": [
    "file = list(with_downloaded_file.files)[0]\n",
    "file"
   ]
  },
  {
   "cell_type": "code",
   "execution_count": null,
   "id": "d3135347-569b-49c2-8726-e65cdc07ac0b",
   "metadata": {},
   "outputs": [],
   "source": [
    "with file.local_path.open() as f:\n",
    "    print(f.read())"
   ]
  },
  {
   "cell_type": "markdown",
   "id": "2489a7d3-4f49-4112-b68b-96a96f8733e4",
   "metadata": {},
   "source": [
    "If we want to test downloads independently of uploads, we can populate `client.file_transfer.files` manually."
   ]
  },
  {
   "cell_type": "code",
   "execution_count": null,
   "id": "a811256e-db50-450b-839c-fe9eb2e45c57",
   "metadata": {
    "nbsphinx": "hidden",
    "tags": []
   },
   "outputs": [],
   "source": [
    "# This cell is hidden.\n",
    "# It should remove *only* files and directories created by this notebook.\n",
    "import shutil\n",
    "shutil.rmtree(\"test-data\", ignore_errors=True)"
   ]
  }
 ],
 "metadata": {
  "kernelspec": {
   "display_name": "Python 3 (ipykernel)",
   "language": "python",
   "name": "python3"
  },
  "language_info": {
   "codemirror_mode": {
    "name": "ipython",
    "version": 3
   },
   "file_extension": ".py",
   "mimetype": "text/x-python",
   "name": "python",
   "nbconvert_exporter": "python",
   "pygments_lexer": "ipython3",
   "version": "3.10.10"
  }
 },
 "nbformat": 4,
 "nbformat_minor": 5
}
