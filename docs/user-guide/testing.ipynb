{
 "cells": [
  {
   "cell_type": "markdown",
   "id": "955a4d05-166f-4456-8dac-f81d0e40805a",
   "metadata": {
    "tags": []
   },
   "source": [
    "# Testing code with Scitacean\n",
    "\n",
    "Testing programs that use Scitacean can be tricky as those tests might require access to a SciCat server or fileserver.\n",
    "Scitacean provides two way to help with this, tools for deploying servers on the local machine as well as fakes to perform tests without any actual servers. This guide describes both methods.\n",
    "\n",
    "Firstly, faking is implemented by [FakeClient](../generated/modules/scitacean.testing.client.FakeClient.rst) and [FakeFileTransfer](../generated/modules/scitacean.testing.transfer.FakeFileTransfer.rst) .\n",
    "Those two classes follow the same separation of concerns as the real classes.\n",
    "That is `FakeClient` handles metadata and `FakeFileTransfer` handles files.\n",
    "They can be mixed and matched freely with the real client and file transfers.\n",
    "But it is generally recommended to combine them.\n",
    "\n",
    "Secondly, SciCat servers and fileservers are managed by the [scicat_backend](../generated/modules/scitacean.testing.backend.fixtures.scicat_backend.rst) and [sftp_fileserver](../generated/modules/scitacean.testing.sftp.fixtures.sftp_fileserver.rst) pytest fixtures.\n",
    "\n",
    "First, create a test dataset and file."
   ]
  },
  {
   "cell_type": "code",
   "execution_count": null,
   "id": "53ae8816-eea4-49f4-a0d0-20d037f3d1e5",
   "metadata": {
    "tags": []
   },
   "outputs": [],
   "source": [
    "from scitacean import Dataset\n",
    "\n",
    "dataset = Dataset(\n",
    "    type=\"raw\",\n",
    "    owner_group=\"faculty\",\n",
    "    owner=\"ridcully\",\n",
    "    principal_investigator=\"Ridcully\",\n",
    "    contact_email=\"ridcully@uu.am\",\n",
    "    data_format=\"spellbook-9000\",\n",
    "    source_folder=\"/upload/abcd\",\n",
    "    creation_location=\"UnseenUniversity\",\n",
    ")"
   ]
  },
  {
   "cell_type": "code",
   "execution_count": null,
   "id": "e7ff9e70-9d75-4e15-b0ad-ccddc02741fd",
   "metadata": {},
   "outputs": [],
   "source": [
    "from pathlib import Path\n",
    "\n",
    "path = Path(\"test-data/spellbook.txt\")\n",
    "path.parent.mkdir(parents=True, exist_ok=True)\n",
    "with path.open(\"w\") as f:\n",
    "    f.write(\"fireball power=1000 mana=123\")"
   ]
  },
  {
   "cell_type": "code",
   "execution_count": null,
   "id": "e7985c81-0df3-4f18-a417-8d5ed8afd5ee",
   "metadata": {},
   "outputs": [],
   "source": [
    "dataset.add_local_files(\"test-data/spellbook.txt\", base_path=\"test-data\")"
   ]
  },
  {
   "cell_type": "markdown",
   "id": "94eace31-d349-40e6-8942-1ceea4830f0f",
   "metadata": {
    "tags": []
   },
   "source": [
    "## FakeClient\n",
    "\n",
    "[scitacean.testing.client.FakeClient](../generated/modules/scitacean.testing.client.FakeClient.rst) has the same interface as the regular [Client](../generated/classes/scitacean.Client.rst) but never connects to any SciCat server.\n",
    "Instead, it maintains an internal record of datasets and datablocks.\n",
    "It is easiest to explain with an example.\n",
    "First, create a `FakeClient`.\n",
    "The url is completely arbitrary and only needs to be passed for parity with the real client."
   ]
  },
  {
   "cell_type": "code",
   "execution_count": null,
   "id": "59eae44f-46a6-4a07-98cc-81104a25503b",
   "metadata": {},
   "outputs": [],
   "source": [
    "from scitacean.testing.client import FakeClient\n",
    "from scitacean.testing.transfer import FakeFileTransfer\n",
    "\n",
    "client = FakeClient.without_login(\n",
    "    url=\"https://fake.scicat\",\n",
    "    file_transfer=FakeFileTransfer())"
   ]
  },
  {
   "cell_type": "markdown",
   "id": "e566a6bd-e7e1-4c0b-bb80-c92bcc1b30ba",
   "metadata": {},
   "source": [
    "### Upload\n",
    "\n",
    "And now we can upload our test dataset as usual:"
   ]
  },
  {
   "cell_type": "code",
   "execution_count": null,
   "id": "06e47461-c6c8-456f-ac04-10541fbe8907",
   "metadata": {},
   "outputs": [],
   "source": [
    "finalized = client.upload_new_dataset_now(dataset)\n",
    "str(finalized)"
   ]
  },
  {
   "cell_type": "markdown",
   "id": "d882e803-0609-4940-8033-788d0b735b20",
   "metadata": {},
   "source": [
    "However, this did not talk to a SciCat server.\n",
    "We can check if the fake upload was successful by inspecting the `client`.\n",
    "`client.datasets` is a `dict` that contains all datasets known to the fake server keyed by PID:"
   ]
  },
  {
   "cell_type": "code",
   "execution_count": null,
   "id": "22860c6e-b880-4baf-8709-e80fb8d5781a",
   "metadata": {},
   "outputs": [],
   "source": [
    "client.datasets.keys()"
   ]
  },
  {
   "cell_type": "code",
   "execution_count": null,
   "id": "a8d0bcbe-48d6-41f1-95fc-7c39426c3cfb",
   "metadata": {},
   "outputs": [],
   "source": [
    "pid = list(client.datasets.keys())[0]\n",
    "client.datasets[pid]"
   ]
  },
  {
   "cell_type": "markdown",
   "id": "25c2ddd3-0105-4370-b57e-65ac94e67b28",
   "metadata": {},
   "source": [
    "The client has recorded the upload from earlier.\n",
    "However, it stored the dataset as a [model](../generated/modules/scitacean.model.rst), not as a regular `Dataset` object.\n",
    "In addition, since the dataset has a file, an original datablock was uploaded as well: (Datablocks store metadata and paths of files in SciCat.)"
   ]
  },
  {
   "cell_type": "code",
   "execution_count": null,
   "id": "b9538f81-18d6-4441-9c09-b8dc4c8c1c71",
   "metadata": {},
   "outputs": [],
   "source": [
    "client.orig_datablocks.keys()"
   ]
  },
  {
   "cell_type": "code",
   "execution_count": null,
   "id": "05633fd9-1286-40f4-91ca-4e8c1a2df299",
   "metadata": {},
   "outputs": [],
   "source": [
    "# use the pid of the dataset\n",
    "client.orig_datablocks[pid]"
   ]
  },
  {
   "cell_type": "markdown",
   "id": "792d672e-325e-4b5b-80d7-4c71baa6c71d",
   "metadata": {},
   "source": [
    "When writing tests, those recorded dataset and datablock models can be used to check if an upload worked.\n",
    "\n",
    "### Download\n",
    "\n",
    "`FakeClient` can also download datasets that are stored in its `datasets` dictionary:"
   ]
  },
  {
   "cell_type": "code",
   "execution_count": null,
   "id": "d2e9d67d-8ae1-4462-8035-1907bb3a98fc",
   "metadata": {},
   "outputs": [],
   "source": [
    "downloaded = client.get_dataset(pid)\n",
    "str(downloaded)"
   ]
  },
  {
   "cell_type": "markdown",
   "id": "2919ab29-8d74-416d-b611-d1f1b5ba8fdb",
   "metadata": {},
   "source": [
    "This is now an actual `Dataset` object like you would get from a real client.\n",
    "\n",
    "If we want to test downloads independently of uploads, we can populate `client.datasets` and `cliend.orig_datablocks` manually.\n",
    "But keep in mind that those store *models*. See the [model reference](../generated/modules/scitacean.model.rst) for an overview.\n",
    "And also note that `orig_datablocks` stores a list of models for each dataset as there can be multiple datablocks per dataset.\n",
    "\n",
    "### Fidelity\n",
    "\n",
    "Although `FakeClient` is sufficient for many tests, it does not behave exactly the same way as a real client.\n",
    "For example, it does not perform any validation of datasets or handle credentials.\n",
    "In addition, it does not modify uploaded datasets like a real server would.\n",
    "This can be seen from both the `finalized` dataset returned by `client.upload_new_dataset_now(dataset)` above and `downloaded`.\n",
    "\n",
    "If a test requires these properties, consider using a locally deployed SciCat server.\n",
    "See in particular the [developer documentation on testing](../developer/testing.rst)."
   ]
  },
  {
   "cell_type": "markdown",
   "id": "da104640-ce5f-4e04-81fd-878167b8bd08",
   "metadata": {},
   "source": [
    "## FakeFileTransfer\n",
    "\n",
    "`FakeClient` used above only fakes a SciCat server, i.e. handling of metadata.\n",
    "If we also want to test file uploads and downloads, we can use [scitacean.testing.transfer.FakeFileTransfer](../generated/modules/scitacean.testing.transfer.FakeFileTransfer.rst).\n",
    "\n",
    "Starting from a clean slate, create a fake client with a fake file transfer as above:"
   ]
  },
  {
   "cell_type": "code",
   "execution_count": null,
   "id": "7457b8a6-b067-443d-adda-88cc97af22f5",
   "metadata": {
    "tags": []
   },
   "outputs": [],
   "source": [
    "from scitacean.testing.client import FakeClient\n",
    "from scitacean.testing.transfer import FakeFileTransfer\n",
    "\n",
    "client = FakeClient.without_login(\n",
    "    url=\"https://fake.scicat\",\n",
    "    file_transfer=FakeFileTransfer())"
   ]
  },
  {
   "cell_type": "markdown",
   "id": "15d15535-78c1-440f-b50e-626ea5457cd0",
   "metadata": {},
   "source": [
    "And upload a dataset:"
   ]
  },
  {
   "cell_type": "code",
   "execution_count": null,
   "id": "9e74e0fe-225a-4899-908c-e24002ad1a0c",
   "metadata": {
    "tags": []
   },
   "outputs": [],
   "source": [
    "finalized = client.upload_new_dataset_now(dataset)"
   ]
  },
  {
   "cell_type": "markdown",
   "id": "09f3c366-74ef-41bc-82ca-188cfdd240a3",
   "metadata": {},
   "source": [
    "The file transfer has recorded the upload of the file without actually uploading it anywhere.\n",
    "We can inspect all files on the fake fileserver using:"
   ]
  },
  {
   "cell_type": "code",
   "execution_count": null,
   "id": "e015c1f5-1f6b-4289-b6a5-435bcdf02512",
   "metadata": {
    "tags": []
   },
   "outputs": [],
   "source": [
    "client.file_transfer.files"
   ]
  },
  {
   "cell_type": "markdown",
   "id": "a1b67454-e63c-42d1-85a9-f1b16d0219c8",
   "metadata": {},
   "source": [
    "This is a dictionary keyed by [remote_access_path](../generated/classes/scitacean.File.rst#scitacean.File.remote_access_path) to the content of the file.\n",
    "\n",
    "We can also download the file."
   ]
  },
  {
   "cell_type": "code",
   "execution_count": null,
   "id": "cc713b35-29d5-4a36-a51b-c3f437e8e4f7",
   "metadata": {
    "tags": []
   },
   "outputs": [],
   "source": [
    "downloaded = client.get_dataset(finalized.pid)\n",
    "with_downloaded_file = client.download_files(downloaded, target=\"test-data/download\")"
   ]
  },
  {
   "cell_type": "code",
   "execution_count": null,
   "id": "ce5bd08a-9399-4c3b-9a92-ea5ae733e29a",
   "metadata": {
    "tags": []
   },
   "outputs": [],
   "source": [
    "file = list(with_downloaded_file.files)[0]\n",
    "file"
   ]
  },
  {
   "cell_type": "code",
   "execution_count": null,
   "id": "d3135347-569b-49c2-8726-e65cdc07ac0b",
   "metadata": {
    "tags": []
   },
   "outputs": [],
   "source": [
    "with file.local_path.open() as f:\n",
    "    print(f.read())"
   ]
  },
  {
   "cell_type": "markdown",
   "id": "2489a7d3-4f49-4112-b68b-96a96f8733e4",
   "metadata": {},
   "source": [
    "If we want to test downloads independently of uploads, we can populate `client.file_transfer.files` manually."
   ]
  },
  {
   "cell_type": "markdown",
   "id": "7fc127dd-5ab3-4df6-a971-65a883d4afc2",
   "metadata": {},
   "source": [
    "## Local SciCat server\n",
    "\n",
    "[scitacean.testing.backend](../generated/modules/scitacean.testing.backend.rst) provides tools to set up a SciCat backend and API in a Docker container on the local machine.\n",
    "It is primarily intended to be used via the [pytest](https://docs.pytest.org/) fixtures in [scitacean.testing.backend.fixtures](../generated/modules/scitacean.testing.backend.fixtures.rst).\n",
    "\n",
    "The fixtures can configure, spin up, and seed a SciCat server and database in Docker containers.\n",
    "They can furthermore provide easy access to the server by building clients.\n",
    "And they clean up after the test session by stopping the Docker containers.\n",
    "\n",
    "Note the caveats in [scitacean.testing.backend](../generated/modules/scitacean.testing.backend.rst) about clean up and use of `pytest-xdist`.\n",
    "\n",
    "### Set up\n",
    "\n",
    "First, ensure that [Docker](https://www.docker.com/) is installed and running on your machine.\n",
    "Then, configure pytest by\n",
    "\n",
    "- registering the fixtures and\n",
    "- adding a command line option to enable backend tests.\n",
    "\n",
    "To this end, add the following in your `conftest.py`:"
   ]
  },
  {
   "cell_type": "code",
   "execution_count": null,
   "id": "778c07f6-199c-4e46-a66e-0196f4fbdbd4",
   "metadata": {
    "tags": []
   },
   "outputs": [],
   "source": [
    "import pytest\n",
    "from scitacean.testing.backend import add_pytest_option as add_backend_option\n",
    "\n",
    "\n",
    "pytest_plugins = (\n",
    "    \"scitacean.testing.backend.fixtures\",\n",
    ")\n",
    "\n",
    "def pytest_addoption(parser: pytest.Parser) -> None:\n",
    "    add_backend_option(parser)"
   ]
  },
  {
   "cell_type": "markdown",
   "id": "630a84a8-abef-4fda-b4dc-efeeaacf2043",
   "metadata": {},
   "source": [
    "The backend will only be launched when the corresponding command line option is given.\n",
    "By default, this is `--backend-tests` but it can be changed via the `option` argument of `add_pytest_option`.\n",
    "\n",
    "### Use SciCat in tests\n",
    "\n",
    "Tests that require the server can now request it as a fixture:"
   ]
  },
  {
   "cell_type": "code",
   "execution_count": null,
   "id": "cb966da1-46c8-4a8b-ab49-2930e1bf4c3a",
   "metadata": {
    "tags": []
   },
   "outputs": [],
   "source": [
    "def test_something_with_scicat(require_scicat_backend):\n",
    "    # test something\n",
    "    ..."
   ]
  },
  {
   "cell_type": "markdown",
   "id": "6095c70a-4b02-456a-a64c-54bf96278695",
   "metadata": {},
   "source": [
    "The `require_scicat_backend` fixture will ensure that the backend is running during the test.\n",
    "If backend tests have not been enabled by the command line option, the test will be skipped.\n",
    "\n",
    "The simplest way to connect to the server is to request the `client` or `real_client` fixture:"
   ]
  },
  {
   "cell_type": "code",
   "execution_count": null,
   "id": "ef74ea13-c110-4087-b0f8-e5770a7e13b3",
   "metadata": {},
   "outputs": [],
   "source": [
    "def test_something_with_scicat_client(client):\n",
    "    # test something\n",
    "    ..."
   ]
  },
  {
   "cell_type": "markdown",
   "id": "30560dea-7d42-4d5a-a259-d8c1415efb05",
   "metadata": {},
   "source": [
    "The `client` fixture provides both a client connected to the SciCat server and a fake client.\n",
    "(Both without a file transfer).\n",
    "The test will run two times, once with each client if backend tests are enabled.\n",
    "If they are disabled, the test will only run with a fake client.\n",
    "\n",
    "If your test does not work with a fake client, you can request `real_client` instead of `client` to only get the real client.\n",
    "Make sure to also request `require_scicat_backend` in this case to skip the test if backend tests are disabled.\n",
    "Or skip them explicitly:"
   ]
  },
  {
   "cell_type": "code",
   "execution_count": null,
   "id": "070daa80-8cc7-4e4f-97ac-74a383e0c023",
   "metadata": {},
   "outputs": [],
   "source": [
    "def test_something_with_real_client(real_client):\n",
    "    if real_client is None:\n",
    "        pytest.skip(\"Backend tests disabled\")\n",
    "        # or do something else\n",
    "    \n",
    "    # do the actual tests"
   ]
  },
  {
   "cell_type": "markdown",
   "id": "a3e4ec61-e127-4ce4-81a3-0781521b73d6",
   "metadata": {},
   "source": [
    "### Seed data\n",
    "\n",
    "The database used by the local SciCat server is seeded with a number of datasets from [scitacean.testing.backend.seed](../generated/modules/scitacean.testing.backend.seed.rst).\n",
    "These datasets are accessible via both real and fake clients.\n",
    "\n",
    "To access the seed, use for example:"
   ]
  },
  {
   "cell_type": "code",
   "execution_count": null,
   "id": "432b8c32-7ecf-4638-b364-5ec98cc40ce1",
   "metadata": {},
   "outputs": [],
   "source": [
    "from scitacean.testing.backend import seed\n",
    "\n",
    "def test_download_raw(client):\n",
    "    dset = seed.INITIAL_DATASETS[\"raw\"]\n",
    "    downloaded = client.get_dataset(dset.pid)\n",
    "    assert downloaded.owner == dset.owner"
   ]
  },
  {
   "cell_type": "markdown",
   "id": "cc6f9f5f-884a-4986-baba-654cb0fd941c",
   "metadata": {},
   "source": [
    "Both clients, i.e., also the fake client, require that the database has been seeded, even when backend tests are disabled.\n",
    "You can ensure this by requesting either `scicat_backend` or `require_scicat_backend` along `fake_client` in your test.\n",
    "To write a test that uses only a fake client but with seed, use"
   ]
  },
  {
   "cell_type": "code",
   "execution_count": null,
   "id": "fc260196-0ade-4773-8bad-b53a1a6740f2",
   "metadata": {},
   "outputs": [],
   "source": [
    "def test_seeded_fake(fake_client, scicat_backend):\n",
    "    dset = seed.INITIAL_DATASETS[\"raw\"]\n",
    "    downloaded = fake_client.get_dataset(dset.pid)\n",
    "    assert downloaded.owner == dset.owner"
   ]
  },
  {
   "cell_type": "markdown",
   "id": "e67d6111-9589-403e-a7ad-6f35b5d82db4",
   "metadata": {},
   "source": [
    "This will run the test both when backend tests are enabled and disabled.\n",
    "In the latter case, the server is never launched and `fake_client` is seeded in a different way.\n",
    "This different way of seeding corresponds to how [scitacean.testing.client.FakeClient](../generated/modules/scitacean.testing.client.FakeClient.rst) processes uploaded files.\n",
    "So it may not be entirely the same as with a real backend.\n",
    "See in particular the [Fidelity](#Fidelity) section"
   ]
  },
  {
   "cell_type": "markdown",
   "id": "97930d15-517a-4cea-bf2b-38ed700220b3",
   "metadata": {},
   "source": [
    "## Local SFTP fileserver\n",
    "\n",
    "[scitacean.testing.sftp](../generated/modules/scitacean.testing.sftp.rst) provides tools to set up an SFTP server in a Docker container on the local machine.\n",
    "It is primarily intended to be used via the [pytest](https://docs.pytest.org/) fixtures in [scitacean.testing.sftp.fixtures](../generated/modules/scitacean.testing.sftp.fixtures.rst).\n",
    "\n",
    "The fixtures can configure, spin up, and seed an SFTP server in a Docker container.\n",
    "They also clean up after the test session by stopping the Docker container.\n",
    "(Scritly speaking, the server is an SSH server but all users except root are restricted to SFTP.)\n",
    "\n",
    "Note the caveats in [scitacean.testing.sftp](../generated/modules/scitacean.testing.sftp.rst) about clean up and use of `pytest-xdist`.\n",
    "\n",
    "### Set up\n",
    "\n",
    "First, ensure that [Docker](https://www.docker.com/) is installed and running on your machine.\n",
    "Then, configure pytest by\n",
    "\n",
    "- registering the fixtures and\n",
    "- adding a command line option to enable sftp tests.\n",
    "\n",
    "To this end, add the following in your `conftest.py`: (Or merge it into the setup for backend tests from above.)"
   ]
  },
  {
   "cell_type": "code",
   "execution_count": null,
   "id": "1d1f763b-1f56-4574-a7d5-5d77e85b888d",
   "metadata": {},
   "outputs": [],
   "source": [
    "import pytest\n",
    "from scitacean.testing.sftp import add_pytest_option as add_sftp_option\n",
    "\n",
    "\n",
    "pytest_plugins = (\n",
    "    \"scitacean.testing.sftp.fixtures\",\n",
    ")\n",
    "\n",
    "def pytest_addoption(parser: pytest.Parser) -> None:\n",
    "    add_sftp_option(parser)"
   ]
  },
  {
   "cell_type": "markdown",
   "id": "0d92f3dd-986c-4f2c-acec-00b6e55ae87b",
   "metadata": {},
   "source": [
    "The SFTP server will only be launched when the corresponding command line option is given.\n",
    "By default, this is `--sftp-tests` but it can be changed via the `option` argument of `add_pytest_option`.\n",
    "\n",
    "### Use SFTP in tests\n",
    "\n",
    "Tests that require the server can now request it as a fixture:"
   ]
  },
  {
   "cell_type": "code",
   "execution_count": null,
   "id": "8e63fde0-827e-4fd5-b55f-980843253813",
   "metadata": {},
   "outputs": [],
   "source": [
    "def test_something_with_sftp(require_sftp_fileserver):\n",
    "    # test something\n",
    "    ..."
   ]
  },
  {
   "cell_type": "markdown",
   "id": "3126d0d9-727a-4d55-aff1-6b31fd5df91f",
   "metadata": {},
   "source": [
    "The `require_sftp_fileserver` fixture will ensure that the SFTP server is running during the test.\n",
    "If SFTP tests have not been enabled by the command line option, the test will be skipped.\n",
    "\n",
    "Connecting to the server is not as straight forward as for the SciCat backend.\n",
    "It requires passing a special `connect` function to the file transfer.\n",
    "This can be done by requesting `sftp_connect_with_username_password`.\n",
    "For example, the following opens a connection to the server to upload a file:"
   ]
  },
  {
   "cell_type": "code",
   "execution_count": null,
   "id": "599b4199-ff30-4899-ab22-0af2b504ecae",
   "metadata": {},
   "outputs": [],
   "source": [
    "from scitacean.transfer.sftp import SFTPFileTransfer\n",
    "\n",
    "def test_sftp_upload(\n",
    "    sftp_access,\n",
    "    sftp_connect_with_username_password,\n",
    "    require_sftp_fileserver,\n",
    "    sftp_data_dir,\n",
    "):\n",
    "    sftp = SFTPFileTransfer(host=sftp_access.host,\n",
    "                            port=sftp_access.port,\n",
    "                            connect=sftp_connect_with_username_password)\n",
    "    ds = Dataset(...)\n",
    "    with sftp.connect_for_upload(dataset=ds) as connection:\n",
    "        # do upload\n",
    "        ...\n",
    "    # assert that the file has been copied to sftp_data_dir\n",
    "    ..."
   ]
  },
  {
   "cell_type": "markdown",
   "id": "c083ed37-0c9d-425a-bce3-a2ad44b47a43",
   "metadata": {},
   "source": [
    "Uploaded files are readable on the host.\n",
    "So the test can read from `sftp_data_dir` to check if the upload succeeded.\n",
    "This directory is mounted as `/data` on the server.\n",
    "\n",
    "Using an SFTP file transfer with `Client` requires some extra steps.\n",
    "An example is given by `test_client_with_sftp` in https://github.com/SciCatProject/scitacean/blob/main/tests/transfer/sftp_test.py.\n",
    "It uses a subclass of `SFTPFileTransfer` to pass `sftp_connect_with_username_password` to the connection as `Client` cannot do this itself.\n",
    "\n",
    "### Seed data\n",
    "\n",
    "The server's filesystem gets seeded with some files from https://github.com/SciCatProject/scitacean/tree/main/src/scitacean/testing/sftp/sftp_server_seed.\n",
    "Those files are copied to `sftp_data_dir` on the host which is mounted to `/data/seed` on the server."
   ]
  },
  {
   "cell_type": "code",
   "execution_count": null,
   "id": "a811256e-db50-450b-839c-fe9eb2e45c57",
   "metadata": {
    "nbsphinx": "hidden",
    "tags": []
   },
   "outputs": [],
   "source": [
    "# This cell is hidden.\n",
    "# It should remove *only* files and directories created by this notebook.\n",
    "import shutil\n",
    "shutil.rmtree(\"test-data\", ignore_errors=True)"
   ]
  }
 ],
 "metadata": {
  "kernelspec": {
   "display_name": "Python 3 (ipykernel)",
   "language": "python",
   "name": "python3"
  },
  "language_info": {
   "codemirror_mode": {
    "name": "ipython",
    "version": 3
   },
   "file_extension": ".py",
   "mimetype": "text/x-python",
   "name": "python",
   "nbconvert_exporter": "python",
   "pygments_lexer": "ipython3",
   "version": "3.11.3"
  }
 },
 "nbformat": 4,
 "nbformat_minor": 5
}
