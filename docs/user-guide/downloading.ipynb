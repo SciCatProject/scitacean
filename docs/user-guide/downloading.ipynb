{
 "cells": [
  {
   "cell_type": "markdown",
   "id": "0099bf6d-e8fc-46e4-a26e-0c66f4496e67",
   "metadata": {},
   "source": [
    "# Downloading Datasets\n",
    "\n",
    "This is how"
   ]
  },
  {
   "cell_type": "code",
   "execution_count": null,
   "id": "22f329e2-624f-4406-93d4-55913e83624d",
   "metadata": {},
   "outputs": [],
   "source": [
    "from pyscicat.model import DataFile, OrigDatablock, RawDataset\n",
    "from scitacean.testing.client import FakeClient\n",
    "client = FakeClient.from_token(url='fake-url.sci/api/v3',\n",
    "                               token='fake-token')\n",
    "pid = '20.500.12269/72fe3ff6-105b-4c7f-b9d0-073b67c90ec3'\n",
    "client.datasets[pid] = RawDataset(\n",
    "    pid=pid,\n",
    "    datasetName='Thaum flux',\n",
    "    description='Measured the thaum flux',\n",
    "    createdBy='Ponder Stibbons',\n",
    "    updatedBy='anonymous',\n",
    "    updatedAt='2022-11-01T13:22:08.927Z',\n",
    "    createdAt='2022-08-17T14:20:23.675Z',\n",
    "    owner='Ponder Stibbons',\n",
    "    ownerGroup='uu',\n",
    "    accessGroups=['faculty'],\n",
    "    principalInvestigator='Ponder Stibbons',\n",
    "    contactEmail='p.stibbons@uu.am',\n",
    "    creationTime='2022-06-29T14:01:05.000Z',\n",
    "    numberOfFiles=2,\n",
    "    size=641,\n",
    "    sourceFolder='/hex/ps/thaum')\n",
    "client.orig_datablocks[pid] = [OrigDatablock(\n",
    "    id='20.500.12269/02dc390c-811c-4d6a-93bf-9f85a4214ca0',\n",
    "    datasetId=pid,\n",
    "    size=641,\n",
    "    ownerGroup='uu',\n",
    "    accessGroups=['faculty'],    \n",
    "    dataFileList=[\n",
    "        DataFile(path='flux.nxs',\n",
    "                 size=447,\n",
    "                 time='2022-08-17T13:54:12Z'),\n",
    "        DataFile(path='logs/measurement.log',\n",
    "                 size=194,\n",
    "                 time='2022-08-17T13:55:21Z'),\n",
    "    ]\n",
    ")]"
   ]
  },
  {
   "cell_type": "markdown",
   "id": "ef7b8db1-ac49-42ff-86d6-8848dccfcace",
   "metadata": {},
   "source": [
    "Would normally use\n",
    "\n",
    "```python\n",
    "from scitacean import Client\n",
    "client = Client.from_token(url='https://scicat.ess.eu/api/v3',\n",
    "                           token='...')\n",
    "```"
   ]
  },
  {
   "cell_type": "code",
   "execution_count": null,
   "id": "4d42e826-56d9-4b1d-8783-8175350bf385",
   "metadata": {},
   "outputs": [],
   "source": [
    "from scitacean import Dataset"
   ]
  },
  {
   "cell_type": "code",
   "execution_count": null,
   "id": "0e6ab0be-17e5-4c2e-b159-43b7e908ac01",
   "metadata": {},
   "outputs": [],
   "source": [
    "dset = Dataset.from_scicat(client, '20.500.12269/72fe3ff6-105b-4c7f-b9d0-073b67c90ec3')"
   ]
  },
  {
   "cell_type": "code",
   "execution_count": null,
   "id": "57b350f7-d7fd-4b1b-929e-bf3fc95bc834",
   "metadata": {},
   "outputs": [],
   "source": [
    "dset"
   ]
  },
  {
   "cell_type": "code",
   "execution_count": null,
   "id": "07344b2c-eb48-4fc7-bc02-ea4ec2a112e3",
   "metadata": {},
   "outputs": [],
   "source": []
  }
 ],
 "metadata": {
  "kernelspec": {
   "display_name": "Python 3 (ipykernel)",
   "language": "python",
   "name": "python3"
  },
  "language_info": {
   "codemirror_mode": {
    "name": "ipython",
    "version": 3
   },
   "file_extension": ".py",
   "mimetype": "text/x-python",
   "name": "python",
   "nbconvert_exporter": "python",
   "pygments_lexer": "ipython3",
   "version": "3.10.8"
  }
 },
 "nbformat": 4,
 "nbformat_minor": 5
}
