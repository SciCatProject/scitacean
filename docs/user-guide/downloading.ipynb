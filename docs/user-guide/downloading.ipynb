{
 "cells": [
  {
   "cell_type": "markdown",
   "id": "594ba90e-8388-434c-8d33-c9001f64b6c8",
   "metadata": {},
   "source": [
    "# Downloading Datasets\n",
    "\n",
    "All communication with SciCat is handled by a client object.\n",
    "Normally, one would construct one using something like\n",
    "\n",
    "```python\n",
    "from scitacean import Client\n",
    "from scitacean.transfer.ess import ESSTestFileTransfer\n",
    "client = Client.from_token(url=\"https://scicat.ess.eu/api/v3\",\n",
    "                           token=...,\n",
    "                           file_transfer=ESSTestFileTransfer(\n",
    "                               host=\"login.esss.dk\"\n",
    "                           ))\n",
    "```\n",
    "\n",
    "In this example, we use ESS's SciCat.\n",
    "If you want to use a different one, you need to figure out its URL.\n",
    "Note that this is *not* the same URL that you open in a browser but typically ends in a suffix like `/api/v3`.\n",
    "\n",
    "Here, we authenticate using a token.\n",
    "You can find your token in the web interface by logging in and opening the settings.\n",
    "Alternatively, we could use username and password via [Client.from_credentials](../generated/classes/scitacean.Client.rst#scitacean.Client.from_credentials).\n",
    "\n",
    "<div class=\"alert alert-warning\">\n",
    "    <b>WARNING:</b>\n",
    "\n",
    "Do *not* hard code secrets like tokens in notebooks or scripts!\n",
    "As there is a high risk of exposing them when code is under version control or uploaded to SciCat.\n",
    "\n",
    "Scitacean currently requires secrets to be passed as function arguments.\n",
    "So you will have to find your own solution for now.\n",
    "\n",
    "</div>\n",
    "\n",
    "While the client itself is responsible for talking to SciCat, a `file_transfer` object is required to download data files.\n",
    "Currently, only `ESSTestFileTransfer` is implemented.\n",
    "It downloads / uploads files via SSH.\n",
    "It will almost definitely change in the future!\n",
    "\n",
    "The file transfer needs to authenticate separately from the SciCat connection.\n",
    "It will ask for username and password on the command if needed.\n",
    "But it is recommended to set up an SSH agent with a key and customize the `host` argument to point to the configured connection.\n",
    "\n",
    "For the purposes of this guide, we don't want to connect to a real SciCat server in order to avoid the complications associated with that.\n",
    "So we set up a fake client that only pretends to connect to SciCat and file servers.\n",
    "Everything else in this guide works in the same way with a real client.\n",
    "See [Developer Documentation/Testing](../developer/testing.rst) if you are interested in the detatils."
   ]
  },
  {
   "cell_type": "code",
   "execution_count": null,
   "id": "22f329e2-624f-4406-93d4-55913e83624d",
   "metadata": {},
   "outputs": [],
   "source": [
    "from scitacean.testing.docs import setup_fake_client\n",
    "client = setup_fake_client()"
   ]
  },
  {
   "cell_type": "markdown",
   "id": "4e8aea34-fb1f-469c-b2d6-c7d64880b7da",
   "metadata": {},
   "source": [
    "## Metadata\n",
    "\n",
    "We need the ID (`pid`) of a dataset in order to download it.\n",
    "The fake client provides a dataset with id `20.500.12269/72fe3ff6-105b-4c7f-b9d0-073b67c90ec3`.\n",
    "We can download it using"
   ]
  },
  {
   "cell_type": "code",
   "execution_count": null,
   "id": "9388ae93-2b8a-4388-8451-26dd263345d8",
   "metadata": {},
   "outputs": [],
   "source": [
    "dset = client.get_dataset(\"20.500.12269/72fe3ff6-105b-4c7f-b9d0-073b67c90ec3\")"
   ]
  },
  {
   "cell_type": "markdown",
   "id": "29dbb19b-a46e-4140-ae59-9f41ddf86340",
   "metadata": {},
   "source": [
    "Datasets can easily be inspected in Jupyter notebooks:"
   ]
  },
  {
   "cell_type": "code",
   "execution_count": null,
   "id": "c4ca91c2-2c51-4dee-906e-4c97c0b7a1e7",
   "metadata": {},
   "outputs": [],
   "source": [
    "dset"
   ]
  },
  {
   "cell_type": "markdown",
   "id": "08363dcc-4a11-40b6-af47-8c6096754868",
   "metadata": {},
   "source": [
    "All attributes listed above can be accessed directly:"
   ]
  },
  {
   "cell_type": "code",
   "execution_count": null,
   "id": "26d06a21-8cc7-4364-b289-37041f455d9c",
   "metadata": {},
   "outputs": [],
   "source": [
    "dset.dataset_type"
   ]
  },
  {
   "cell_type": "code",
   "execution_count": null,
   "id": "d78b40ef-4494-49a8-ae2f-233188ba52eb",
   "metadata": {},
   "outputs": [],
   "source": [
    "dset.dataset_name"
   ]
  },
  {
   "cell_type": "code",
   "execution_count": null,
   "id": "bd441bbd-58f7-47bf-ac14-edd730c05ab4",
   "metadata": {},
   "outputs": [],
   "source": [
    "dset.owner"
   ]
  },
  {
   "cell_type": "markdown",
   "id": "b8ddc42b-b43d-4f95-b40a-235af77d9d27",
   "metadata": {},
   "source": [
    "See [Dataset](../generated/classes/scitacean.Dataset.rst) for a list of available fields.\n",
    "\n",
    "In addition, datasets can have free form scientific metadata which we can be accessed using"
   ]
  },
  {
   "cell_type": "code",
   "execution_count": null,
   "id": "c7788a40-0d56-442c-ad19-6fe5205bc476",
   "metadata": {},
   "outputs": [],
   "source": [
    "dset.meta"
   ]
  },
  {
   "cell_type": "markdown",
   "id": "020840e2-9291-4d1c-b8e1-b25709fcf790",
   "metadata": {},
   "source": [
    "## Files\n",
    "\n",
    "The data files associated with this dataset can be accessed using"
   ]
  },
  {
   "cell_type": "code",
   "execution_count": null,
   "id": "2fcb8261-ff87-4788-adbd-6e6fd7a9d2f1",
   "metadata": {},
   "outputs": [],
   "source": [
    "for f in dset.files:\n",
    "    print(f\"{f.remote_access_path = }\")\n",
    "    print(f\"{f.local_path = }\")\n",
    "    print(f\"{f.size = } bytes\")\n",
    "    print(\"----\")"
   ]
  },
  {
   "cell_type": "markdown",
   "id": "c5fb8c86-ccf7-4245-99da-b5b49dce4c5d",
   "metadata": {},
   "source": [
    "Note that the `local_path` for both files is `None`.\n",
    "This indicates that the files have not been downloaded.\n",
    "Indeed, `client.get_dataset` downloads only the metadata from SciCat, not the files.\n",
    "\n",
    "We can download the first file using"
   ]
  },
  {
   "cell_type": "code",
   "execution_count": null,
   "id": "2835c2e4-0eba-4535-99d9-9de4957e51ed",
   "metadata": {},
   "outputs": [],
   "source": [
    "path = dset.files[0].provide_locally(\"data/raw/\",\n",
    "                                     downloader=client.file_transfer,\n",
    "                                     checksum_algorithm=None)"
   ]
  },
  {
   "cell_type": "markdown",
   "id": "0097c9f9-ff98-4bd2-971f-70fd1001d186",
   "metadata": {},
   "source": [
    "Which populates the `local_path`:"
   ]
  },
  {
   "cell_type": "code",
   "execution_count": null,
   "id": "84f086f8-e930-4ccb-ad22-5b5e0bb0cc6e",
   "metadata": {},
   "outputs": [],
   "source": [
    "dset.files[0].local_path"
   ]
  },
  {
   "cell_type": "markdown",
   "id": "40ace557-a58c-4cbf-8899-a0991fcdfe8e",
   "metadata": {},
   "source": [
    "And the returned path points to the local file:"
   ]
  },
  {
   "cell_type": "code",
   "execution_count": null,
   "id": "f9337880-ff53-4f0d-a3a2-1637119e6c69",
   "metadata": {},
   "outputs": [],
   "source": [
    "path"
   ]
  },
  {
   "cell_type": "markdown",
   "id": "28a14e32-f2fa-45d4-9b62-2c6f04abeffb",
   "metadata": {},
   "source": [
    "We can use it to read the file:"
   ]
  },
  {
   "cell_type": "code",
   "execution_count": null,
   "id": "7b1ffde0-e2b9-47ff-ac68-3d327a18c124",
   "metadata": {},
   "outputs": [],
   "source": [
    "with path.open(\"r\") as f:\n",
    "    print(f.read())"
   ]
  }
 ],
 "metadata": {
  "kernelspec": {
   "display_name": "Python 3 (ipykernel)",
   "language": "python",
   "name": "python3"
  },
  "language_info": {
   "codemirror_mode": {
    "name": "ipython",
    "version": 3
   },
   "file_extension": ".py",
   "mimetype": "text/x-python",
   "name": "python",
   "nbconvert_exporter": "python",
   "pygments_lexer": "ipython3"
  }
 },
 "nbformat": 4,
 "nbformat_minor": 5
}
